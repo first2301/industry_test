{
 "cells": [
  {
   "cell_type": "code",
   "execution_count": 1,
   "metadata": {},
   "outputs": [],
   "source": [
    "from pathlib import Path"
   ]
  },
  {
   "cell_type": "code",
   "execution_count": null,
   "metadata": {},
   "outputs": [],
   "source": [
    "# G:\\industry_data"
   ]
  },
  {
   "cell_type": "code",
   "execution_count": 2,
   "metadata": {},
   "outputs": [],
   "source": [
    "# all_path = Path('../data/').rglob('*')\n",
    "all_path = Path('G:\\industry_data\\industry_data/').rglob('*')\n",
    "file_only = [i for i in all_path if i.is_file()]"
   ]
  },
  {
   "cell_type": "code",
   "execution_count": 13,
   "metadata": {},
   "outputs": [],
   "source": [
    "class DataProcessor:\n",
    "    \"\"\"데이터 처리와 관련된 기능을 담당하는 클래스\"\"\"\n",
    "    \n",
    "    @staticmethod\n",
    "    def format_bytes(size):\n",
    "        \"\"\"byte를 KB, MB, GB, TB 등으로 변경하는 함수\"\"\"\n",
    "        volum = 1024\n",
    "        n = 0\n",
    "        volum_labels = {0: 'B', 1: 'KB', 2: 'MB', 3: 'GB', 4: 'TB'}\n",
    "        original_size = size\n",
    "        while original_size >= volum and n < len(volum_labels) - 1:\n",
    "            original_size /= volum\n",
    "            n += 1\n",
    "        return f\"{original_size:.1f} {volum_labels[n]}\"\n",
    "    \n",
    "    @staticmethod\n",
    "    def calculate_total_size(file_paths):\n",
    "        \"\"\"파일 경로들의 총 크기를 계산하는 함수\"\"\"\n",
    "        total_size = 0\n",
    "        file_count = 0\n",
    "        \n",
    "        for file_path in file_paths:\n",
    "            if file_path.exists():\n",
    "                file_size = file_path.stat().st_size\n",
    "                total_size += file_size\n",
    "                file_count += 1\n",
    "                # print(f\"{file_path.name}: {DataProcessor.format_bytes(file_size)}\")\n",
    "        \n",
    "        return total_size, file_count\n"
   ]
  },
  {
   "cell_type": "code",
   "execution_count": 15,
   "metadata": {},
   "outputs": [
    {
     "name": "stdout",
     "output_type": "stream",
     "text": [
      "\n",
      "총 파일 수: 9개\n",
      "총 크기: 378.5 MB\n"
     ]
    }
   ],
   "source": [
    "# 총 크기 계산\n",
    "total_size, file_count = DataProcessor.calculate_total_size(file_only)\n",
    "print(f\"\\n총 파일 수: {file_count}개\")\n",
    "print(f\"총 크기: {DataProcessor.format_bytes(total_size)}\")\n"
   ]
  },
  {
   "cell_type": "code",
   "execution_count": 33,
   "metadata": {},
   "outputs": [
    {
     "data": {
      "text/plain": [
       "os.stat_result(st_mode=33206, st_ino=562949955112197, st_dev=1947047632, st_nlink=1, st_uid=0, st_gid=0, st_size=3156156, st_atime=1750223955, st_mtime=1723502703, st_ctime=1750223955)"
      ]
     },
     "execution_count": 33,
     "metadata": {},
     "output_type": "execute_result"
    }
   ],
   "source": [
    "file_only[0].stat()"
   ]
  },
  {
   "cell_type": "code",
   "execution_count": null,
   "metadata": {},
   "outputs": [],
   "source": [
    "def make_polars_dataframe(self, paths):\n",
    "    '''\n",
    "    polars_dataframe 생성 \\n\n",
    "    full_path, file_id, file_name, folder_name, file_size, image_width, image_height\n",
    "    '''\n",
    "    image_width_height = self.extract_image_resolutions(paths)\n",
    "\n",
    "    df = pl.DataFrame({\n",
    "        \"full_path\": paths,\n",
    "        \"file_id\": self.extract_file_id(paths),\n",
    "        \"file_name\": self.extract_file_name(paths),\n",
    "        \"folder_name\": self.extract_folder_name(paths),\n",
    "        \"file_size\": self.extract_file_size(paths),\n",
    "        \"image_width\": [size[0] for size in image_width_height],\n",
    "        \"image_height\": [size[1] for size in image_width_height],\n",
    "\n",
    "    })\n",
    "    return df.to_pandas()"
   ]
  },
  {
   "cell_type": "code",
   "execution_count": 34,
   "metadata": {},
   "outputs": [],
   "source": [
    "import polars as pl\n",
    "from PIL import Image\n",
    "\n",
    "class DataProcessor:\n",
    "    \"\"\"데이터 처리와 관련된 기능을 담당하는 클래스\"\"\"\n",
    "    \n",
    "    @staticmethod\n",
    "    def format_bytes(size):\n",
    "        \"\"\"byte를 KB, MB, GB, TB 등으로 변경하는 함수\"\"\"\n",
    "        volum = 1024\n",
    "        n = 0\n",
    "        volum_labels = {0: 'B', 1: 'KB', 2: 'MB', 3: 'GB', 4: 'TB'}\n",
    "        original_size = size\n",
    "        while original_size >= volum and n < len(volum_labels) - 1:\n",
    "            original_size /= volum\n",
    "            n += 1\n",
    "        return f\"{original_size:.1f} {volum_labels[n]}\"\n",
    "    \n",
    "    @staticmethod\n",
    "    def calculate_total_size(file_paths):\n",
    "        \"\"\"파일 경로들의 총 크기를 계산하는 함수\"\"\"\n",
    "        total_size = 0\n",
    "        file_count = 0\n",
    "        \n",
    "        for file_path in file_paths:\n",
    "            if file_path.exists():\n",
    "                file_size = file_path.stat().st_size\n",
    "                total_size += file_size\n",
    "                file_count += 1\n",
    "        \n",
    "        return total_size, file_count\n",
    "    \n",
    "    @staticmethod\n",
    "    def extract_full_path(file_paths):\n",
    "        \"\"\"전체 경로 추출\"\"\"\n",
    "        return [str(path) for path in file_paths]\n",
    "    \n",
    "    @staticmethod\n",
    "    def extract_file_id(file_paths):\n",
    "        \"\"\"파일 ID 추출 (파일명에서 확장자 제외)\"\"\"\n",
    "        return [path.stem for path in file_paths]\n",
    "    \n",
    "    @staticmethod\n",
    "    def extract_file_name(file_paths):\n",
    "        \"\"\"파일명 추출 (확장자 포함)\"\"\"\n",
    "        return [path.name for path in file_paths]\n",
    "    \n",
    "    @staticmethod\n",
    "    def extract_folder_name(file_paths):\n",
    "        \"\"\"폴더명 추출\"\"\"\n",
    "        return [path.parent.name for path in file_paths]\n",
    "    \n",
    "    @staticmethod\n",
    "    def extract_file_size(file_paths):\n",
    "        \"\"\"파일 크기 추출 (바이트)\"\"\"\n",
    "        return [path.stat().st_size for path in file_paths if path.exists()]\n",
    "    \n",
    "    @staticmethod\n",
    "    def extract_image_resolutions(file_paths):\n",
    "        \"\"\"이미지 해상도 추출 (width, height)\"\"\"\n",
    "        resolutions = []\n",
    "        for path in file_paths:\n",
    "            try:\n",
    "                with Image.open(path) as img:\n",
    "                    width, height = img.size\n",
    "                    resolutions.append((width, height))\n",
    "            except Exception as e:\n",
    "                print(f\"이미지 읽기 실패 {path}: {e}\")\n",
    "                resolutions.append((0, 0))  # 실패 시 기본값\n",
    "        return resolutions\n",
    "    \n",
    "    @staticmethod\n",
    "    def make_polars_dataframe(file_paths):\n",
    "        \"\"\"polars DataFrame 생성\"\"\"\n",
    "        image_width_height = DataProcessor.extract_image_resolutions(file_paths)\n",
    "        \n",
    "        df = pl.DataFrame({\n",
    "            \"full_path\": DataProcessor.extract_full_path(file_paths),\n",
    "            \"file_id\": DataProcessor.extract_file_id(file_paths),\n",
    "            \"file_name\": DataProcessor.extract_file_name(file_paths),\n",
    "            \"folder_name\": DataProcessor.extract_folder_name(file_paths),\n",
    "            \"file_size\": DataProcessor.extract_file_size(file_paths),\n",
    "            \"image_width\": [size[0] for size in image_width_height],\n",
    "            \"image_height\": [size[1] for size in image_width_height],\n",
    "        })\n",
    "        return df\n",
    "    \n",
    "    @staticmethod\n",
    "    def make_pandas_dataframe(file_paths):\n",
    "        \"\"\"pandas DataFrame 생성\"\"\"\n",
    "        df = DataProcessor.make_polars_dataframe(file_paths)\n",
    "        return df.to_pandas()"
   ]
  },
  {
   "cell_type": "code",
   "execution_count": 35,
   "metadata": {},
   "outputs": [
    {
     "name": "stdout",
     "output_type": "stream",
     "text": [
      "=== 이미지 파일 정보 ===\n",
      "shape: (6, 7)\n",
      "┌────────────────┬─────────┬───────────────┬─────────────┬───────────┬─────────────┬───────────────┐\n",
      "│ full_path      ┆ file_id ┆ file_name     ┆ folder_name ┆ file_size ┆ image_width ┆ image_height  │\n",
      "│ ---            ┆ ---     ┆ ---           ┆ ---         ┆ ---       ┆ ---         ┆ ---           │\n",
      "│ str            ┆ str     ┆ str           ┆ str         ┆ i64       ┆ i64         ┆ i64           │\n",
      "╞════════════════╪═════════╪═══════════════╪═════════════╪═══════════╪═════════════╪═══════════════╡\n",
      "│ ..\\data\\001000 ┆ 0010002 ┆ 0010002       ┆ data        ┆ 3156156   ┆ 1920        ┆ 1080          │\n",
      "│ 2 copy.png     ┆ copy    ┆ copy.png      ┆             ┆           ┆             ┆               │\n",
      "│ ..\\data\\001000 ┆ 0010002 ┆ 0010002.png   ┆ data        ┆ 3156156   ┆ 1920        ┆ 1080          │\n",
      "│ 2.png          ┆         ┆               ┆             ┆           ┆             ┆               │\n",
      "│ ..\\data\\path1\\ ┆ 0010002 ┆ 0010002       ┆ path1       ┆ 3156156   ┆ 1920        ┆ 1080          │\n",
      "│ 0010002        ┆ copy    ┆ copy.png      ┆             ┆           ┆             ┆               │\n",
      "│ copy.png       ┆         ┆               ┆             ┆           ┆             ┆               │\n",
      "│ ..\\data\\path1\\ ┆ 0010002 ┆ 0010002.png   ┆ path1       ┆ 3156156   ┆ 1920        ┆ 1080          │\n",
      "│ 0010002.png    ┆         ┆               ┆             ┆           ┆             ┆               │\n",
      "│ ..\\data\\path2\\ ┆ 0010002 ┆ 0010002       ┆ path2       ┆ 3156156   ┆ 1920        ┆ 1080          │\n",
      "│ 0010002        ┆ copy    ┆ copy.png      ┆             ┆           ┆             ┆               │\n",
      "│ copy.png       ┆         ┆               ┆             ┆           ┆             ┆               │\n",
      "│ ..\\data\\path2\\ ┆ 0010002 ┆ 0010002.png   ┆ path2       ┆ 3156156   ┆ 1920        ┆ 1080          │\n",
      "│ 0010002.png    ┆         ┆               ┆             ┆           ┆             ┆               │\n",
      "└────────────────┴─────────┴───────────────┴─────────────┴───────────┴─────────────┴───────────────┘\n",
      "\n",
      "=== Pandas DataFrame ===\n",
      "                        full_path       file_id         file_name folder_name  \\\n",
      "0        ..\\data\\0010002 copy.png  0010002 copy  0010002 copy.png        data   \n",
      "1             ..\\data\\0010002.png       0010002       0010002.png        data   \n",
      "2  ..\\data\\path1\\0010002 copy.png  0010002 copy  0010002 copy.png       path1   \n",
      "3       ..\\data\\path1\\0010002.png       0010002       0010002.png       path1   \n",
      "4  ..\\data\\path2\\0010002 copy.png  0010002 copy  0010002 copy.png       path2   \n",
      "5       ..\\data\\path2\\0010002.png       0010002       0010002.png       path2   \n",
      "\n",
      "   file_size  image_width  image_height  \n",
      "0    3156156         1920          1080  \n",
      "1    3156156         1920          1080  \n",
      "2    3156156         1920          1080  \n",
      "3    3156156         1920          1080  \n",
      "4    3156156         1920          1080  \n",
      "5    3156156         1920          1080  \n"
     ]
    }
   ],
   "source": [
    "# 이미지 파일만 필터링 (PNG, JPG, JPEG 등)\n",
    "image_extensions = {'.png', '.jpg', '.jpeg', '.gif', '.bmp', '.tiff'}\n",
    "image_files = [f for f in file_only if f.suffix.lower() in image_extensions]\n",
    "\n",
    "# DataFrame 생성\n",
    "df = DataProcessor.make_polars_dataframe(image_files)\n",
    "\n",
    "# 결과 확인\n",
    "print(\"=== 이미지 파일 정보 ===\")\n",
    "print(df)\n",
    "\n",
    "# pandas DataFrame으로 변환\n",
    "pandas_df = DataProcessor.make_pandas_dataframe(image_files)\n",
    "print(\"\\n=== Pandas DataFrame ===\")\n",
    "print(pandas_df)"
   ]
  },
  {
   "cell_type": "code",
   "execution_count": null,
   "metadata": {},
   "outputs": [],
   "source": []
  }
 ],
 "metadata": {
  "kernelspec": {
   "display_name": ".venv",
   "language": "python",
   "name": "python3"
  },
  "language_info": {
   "codemirror_mode": {
    "name": "ipython",
    "version": 3
   },
   "file_extension": ".py",
   "mimetype": "text/x-python",
   "name": "python",
   "nbconvert_exporter": "python",
   "pygments_lexer": "ipython3",
   "version": "3.11.2"
  }
 },
 "nbformat": 4,
 "nbformat_minor": 2
}
